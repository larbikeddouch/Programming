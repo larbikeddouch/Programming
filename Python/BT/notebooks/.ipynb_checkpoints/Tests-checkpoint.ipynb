{
 "cells": [
  {
   "cell_type": "code",
   "execution_count": 1,
   "metadata": {
    "collapsed": true,
    "scrolled": false
   },
   "outputs": [],
   "source": [
    "import pandas as pd\n",
    "import datetime\n",
    "\n",
    "def date_parser_function(dateAsString):\n",
    "    return datetime.datetime.strptime(dateAsString,\"%m/%d/%Y\")\n",
    "\n",
    "df = pd.read_csv(\"~/Programming/Python/BT/tests/TimeSeries\",\n",
    "                index_col=\"Date\",\n",
    "                parse_dates=[\"Date\"],\n",
    "                date_parser=date_parser_function,\n",
    "                sep=\"\\t\")\n",
    "\n",
    "#print(df.head(10))"
   ]
  },
  {
   "cell_type": "code",
   "execution_count": 2,
   "metadata": {
    "scrolled": true
   },
   "outputs": [],
   "source": [
    "from ipywidgets import Checkbox, interactive, Layout, Button\n",
    "import ipywidgets as widgets\n",
    "from IPython.display import display\n",
    "\n",
    "#chk = [widgets.Checkbox(description=a,\n",
    "#                layout=Layout(width='auto',height='10px')) for a in df.columns]\n",
    "#\n",
    "#def updatePlot(**kwargs):\n",
    "#    print([(k,v) for k, v in kwargs.items()])\n",
    "#\n",
    "#widgets.interact(updatePlot, **{c.description: c.value for c in chk})"
   ]
  },
  {
   "cell_type": "code",
   "execution_count": 3,
   "metadata": {
    "scrolled": false
   },
   "outputs": [
    {
     "ename": "IndentationError",
     "evalue": "unexpected indent (<ipython-input-3-4ede54f2bd44>, line 9)",
     "output_type": "error",
     "traceback": [
      "\u001b[0;36m  File \u001b[0;32m\"<ipython-input-3-4ede54f2bd44>\"\u001b[0;36m, line \u001b[0;32m9\u001b[0m\n\u001b[0;31m    layout=Layout(width='auto',height='auto')) for a in df.columns]\u001b[0m\n\u001b[0m    ^\u001b[0m\n\u001b[0;31mIndentationError\u001b[0m\u001b[0;31m:\u001b[0m unexpected indent\n"
     ]
    }
   ],
   "source": [
    "from ipywidgets import Checkbox, interactive, Layout, Button\n",
    "import ipywidgets as widgets\n",
    "from IPython.display import display\n",
    "import matplotlib.pyplot as plt\n",
    "\n",
    "#mainfig, ax = plt.subplots()\n",
    "\n",
    "#chk = [widgets.Checkbox(description=a,\n",
    "#                layout=Layout(width='auto',height='auto')) for a in df.columns]\n",
    "\n",
    "#for c in chk:\n",
    "#    c.observe(updatePlot, names=\"value\")\n",
    "#    display(c)\n",
    "\n",
    "#def updatePlot(self,change):\n",
    "#    print(\"%s and %s\" % (change.owner.description, change.new))\n",
    "\n",
    "#def updatePlot(change):\n",
    "#    fig = plt.figure(mainfig.number)\n",
    "#    plt.plot(df[change.owner.description])\n",
    "#    plt.show()"
   ]
  },
  {
   "cell_type": "code",
   "execution_count": null,
   "metadata": {},
   "outputs": [],
   "source": [
    "import numpy as np\n",
    "\n",
    "from bokeh.io import curdoc, output_notebook\n",
    "from bokeh.layouts import row, widgetbox\n",
    "from bokeh.palettes import Viridis3\n",
    "from bokeh.plotting import figure, show\n",
    "from bokeh.models import CheckboxGroup\n",
    "output_notebook()\n",
    "\n",
    "p = figure()\n",
    "props = dict(line_width=4, line_alpha=0.7)\n",
    "x = np.linspace(0, 4 * np.pi, 100)\n",
    "l0 = p.line(x, np.sin(x), color=Viridis3[0], legend=\"Line 0\", **props)\n",
    "l1 = p.line(x, 4 * np.cos(x), color=Viridis3[1], legend=\"Line 1\", **props)\n",
    "l2 = p.line(x, np.tan(x), color=Viridis3[2], legend=\"Line 2\", **props)\n",
    "\n",
    "checkbox = CheckboxGroup(labels=[\"Line 0\", \"Line 1\", \"Line 2\"], active=[0, 1, 2], width=100)\n",
    "\n",
    "def update(attr, old, new):\n",
    "    l0.visible = 0 in checkbox.active\n",
    "    l1.visible = 1 in checkbox.active\n",
    "    l2.visible = 2 in checkbox.active\n",
    "\n",
    "checkbox.on_change('active', update)\n",
    "\n",
    "layout = row(checkbox, p)\n",
    "curdoc().add_root(layout)\n",
    "\n",
    "show(widgetbox(checkbox))"
   ]
  },
  {
   "cell_type": "code",
   "execution_count": null,
   "metadata": {},
   "outputs": [],
   "source": [
    "from IPython import __version__ as ipython_version\n",
    "from pandas import __version__ as pandas_version\n",
    "from bokeh import __version__ as bokeh_version\n",
    "print(\"IPython - %s\" % ipython_version)\n",
    "print(\"Pandas - %s\" % pandas_version)\n",
    "print(\"Bokeh - %s\" % bokeh_version)"
   ]
  },
  {
   "cell_type": "code",
   "execution_count": null,
   "metadata": {
    "collapsed": true
   },
   "outputs": [],
   "source": [
    "from bokeh.io import output_file, show\n",
    "from bokeh.layouts import widgetbox\n",
    "from bokeh.models.widgets import CheckboxGroup\n",
    "\n",
    "#output_file(\"checkbox_group.html\")\n",
    "\n",
    "checkbox_group = CheckboxGroup(\n",
    "        labels=[\"Option 1\", \"Option 2\", \"Option 3\"], active=[0, 1])\n",
    "\n",
    "show(widgetbox(checkbox_group))"
   ]
  },
  {
   "cell_type": "code",
   "execution_count": null,
   "metadata": {
    "collapsed": true
   },
   "outputs": [],
   "source": []
  }
 ],
 "metadata": {
  "kernelspec": {
   "display_name": "Python 3",
   "language": "python",
   "name": "python3"
  },
  "language_info": {
   "codemirror_mode": {
    "name": "ipython",
    "version": 3
   },
   "file_extension": ".py",
   "mimetype": "text/x-python",
   "name": "python",
   "nbconvert_exporter": "python",
   "pygments_lexer": "ipython3",
   "version": "3.6.3"
  }
 },
 "nbformat": 4,
 "nbformat_minor": 2
}
