{
 "cells": [
  {
   "cell_type": "code",
   "execution_count": 1,
   "metadata": {
    "scrolled": false
   },
   "outputs": [
    {
     "data": {
      "text/html": [
       "<style>.container { width:100% !important; }</style>"
      ],
      "text/plain": [
       "<IPython.core.display.HTML object>"
      ]
     },
     "metadata": {},
     "output_type": "display_data"
    }
   ],
   "source": [
    "import numpy as np\n",
    "\n",
    "from bokeh.io import output_file, show, output_notebook\n",
    "from bokeh.layouts import row\n",
    "from bokeh.palettes import Viridis3\n",
    "from bokeh.plotting import figure\n",
    "from bokeh.models import CheckboxGroup, CustomJS\n",
    "\n",
    "from IPython.core.display import display, HTML\n",
    "display(HTML(\"<style>.container { width:100% !important; }</style>\"))\n",
    "\n",
    "#output_file(\"line_on_off.html\", title=\"line_on_off.py example\")\n",
    "output_notebook()\n",
    "\n",
    "code = \"\"\"\n",
    "    if (0 in checkbox.active) {\n",
    "        line0.visible = true\n",
    "    } else {\n",
    "        line0.visible = false\n",
    "    }\n",
    "    if (1 in checkbox.active) {\n",
    "        line1.visible = true\n",
    "    } else {\n",
    "        line1.visible = false\n",
    "    }\n",
    "    if (2 in checkbox.active) {\n",
    "        line2.visible = true\n",
    "    } else {\n",
    "        line2.visible = false\n",
    "    }\n",
    "\"\"\"\n",
    "\n",
    "p = figure()\n",
    "props = dict(line_width=4, line_alpha=0.7)\n",
    "x = np.linspace(0, 4 * np.pi, 100)\n",
    "l0 = p.line(x, np.sin(x), color=Viridis3[0], legend=\"Line 0\", **props)\n",
    "l1 = p.line(x, 4 * np.cos(x), color=Viridis3[1], legend=\"Line 1\", **props)\n",
    "l2 = p.line(x, np.tan(x), color=Viridis3[2], legend=\"Line 2\", **props)\n",
    "\n",
    "callback = CustomJS(code=code, args={})\n",
    "checkbox = CheckboxGroup(labels=[\"Line 0\", \"Line 1\", \"Line 2\"], active=[0, 1, 2], callback=callback, width=500)\n",
    "callback.args = dict(line0=l0, line1=l1, line2=l2, checkbox=checkbox)\n",
    "\n",
    "layout = row(p, checkbox, sizing_mode='scale_width')\n",
    "show(layout)"
   ]
  },
  {
   "cell_type": "code",
   "execution_count": null,
   "metadata": {
    "collapsed": true
   },
   "outputs": [],
   "source": []
  }
 ],
 "metadata": {
  "kernelspec": {
   "display_name": "Python 3",
   "language": "python",
   "name": "python3"
  },
  "language_info": {
   "codemirror_mode": {
    "name": "ipython",
    "version": 3
   },
   "file_extension": ".py",
   "mimetype": "text/x-python",
   "name": "python",
   "nbconvert_exporter": "python",
   "pygments_lexer": "ipython3",
   "version": "3.6.3"
  }
 },
 "nbformat": 4,
 "nbformat_minor": 2
}
