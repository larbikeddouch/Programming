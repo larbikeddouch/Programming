{
 "cells": [
  {
   "cell_type": "code",
   "execution_count": 4,
   "metadata": {},
   "outputs": [
    {
     "data": {
      "text/html": [
       "<style>.container { width:100% !important; }</style>"
      ],
      "text/plain": [
       "<IPython.core.display.HTML object>"
      ]
     },
     "metadata": {},
     "output_type": "display_data"
    }
   ],
   "source": [
    "from IPython.core.display import display, HTML\n",
    "from IPython.display import FileLink\n",
    "from ipywidgets import widgets, HBox, VBox, Label\n",
    "import os\n",
    "from pathlib import Path\n",
    "from IPython.core.display import display, HTML\n",
    "display(HTML(\"<style>.container { width:100% !important; }</style>\"))"
   ]
  },
  {
   "cell_type": "code",
   "execution_count": 24,
   "metadata": {
    "scrolled": true
   },
   "outputs": [
    {
     "data": {
      "application/vnd.jupyter.widget-view+json": {
       "model_id": "796c40d54443423a905a470d6a775cd3",
       "version_major": 2,
       "version_minor": 0
      },
      "text/plain": [
       "A Jupyter Widget"
      ]
     },
     "metadata": {},
     "output_type": "display_data"
    }
   ],
   "source": [
    "text = widgets.Text(description=\"Path to file\", style=input_style)\n",
    "text_label = Label('')\n",
    "input_file_layout = HBox([text, text_label])\n",
    "input_style = {'width': '400px'}\n",
    "dropdown = widgets.Dropdown(\n",
    "    options=['Yahoo', 'Google', 'Morningstar'],\n",
    "    value='Morningstar',\n",
    "    description='Data source',\n",
    "    disabled=False,\n",
    "    style=input_style\n",
    ")\n",
    "start_date = widgets.DatePicker(\n",
    "    description='From Date',\n",
    "    disabled=False,\n",
    "    style=input_style\n",
    ")\n",
    "end_date = widgets.DatePicker(\n",
    "    description='To Date',\n",
    "    disabled=False,\n",
    "    style=input_style\n",
    ")\n",
    "submit_button = widgets.Button(\n",
    "    value=False,\n",
    "    description='Send Update',\n",
    "    disabled=False,\n",
    "    button_style='', # 'success', 'info', 'warning', 'danger' or ''\n",
    "    tooltip='Description'\n",
    ")\n",
    "layout = VBox([input_file_layout, dropdown, start_date, end_date, submit_button])\n",
    "display(layout)\n",
    "\n",
    "def handle_submit(sender):\n",
    "    file_path = Path(text.value)\n",
    "    if not file_path.is_file():\n",
    "        text_label.value = \"File does not currently exist\"\n",
    "    else:\n",
    "        text_label.value = \"File exists\"\n",
    "\n",
    "def submit_button_behavior(sender):\n",
    "    result = {'success': 'danger', 'danger': 'info',\n",
    "              'info': '', '': 'success'}\n",
    "    submit_button.button_style = result[submit_button.button_style]\n",
    "\n",
    "text.on_submit(handle_submit)\n",
    "submit_button.on_click(submit_button_behavior)"
   ]
  },
  {
   "cell_type": "code",
   "execution_count": 23,
   "metadata": {},
   "outputs": [
    {
     "name": "stdout",
     "output_type": "stream",
     "text": [
      "/home/xavier/Programming/Python/BT/notebooks\n"
     ]
    }
   ],
   "source": [
    "print(os.getcwd())"
   ]
  },
  {
   "cell_type": "code",
   "execution_count": null,
   "metadata": {
    "collapsed": true
   },
   "outputs": [],
   "source": []
  }
 ],
 "metadata": {
  "kernelspec": {
   "display_name": "Python 3",
   "language": "python",
   "name": "python3"
  },
  "language_info": {
   "codemirror_mode": {
    "name": "ipython",
    "version": 3
   },
   "file_extension": ".py",
   "mimetype": "text/x-python",
   "name": "python",
   "nbconvert_exporter": "python",
   "pygments_lexer": "ipython3",
   "version": "3.6.3"
  }
 },
 "nbformat": 4,
 "nbformat_minor": 2
}
