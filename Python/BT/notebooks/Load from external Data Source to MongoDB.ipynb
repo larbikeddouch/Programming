{
 "cells": [
  {
   "cell_type": "code",
   "execution_count": 8,
   "metadata": {},
   "outputs": [
    {
     "data": {
      "text/html": [
       "<style>.container { width:100% !important; }</style>"
      ],
      "text/plain": [
       "<IPython.core.display.HTML object>"
      ]
     },
     "metadata": {},
     "output_type": "display_data"
    }
   ],
   "source": [
    "from IPython.core.display import display, HTML\n",
    "from IPython.display import FileLink\n",
    "from ipywidgets import widgets, HBox, VBox, Label, Layout\n",
    "import os\n",
    "from pathlib import Path\n",
    "from IPython.core.display import display, HTML\n",
    "display(HTML(\"<style>.container { width:100% !important; }</style>\"))\n",
    "import datetime\n",
    "\n",
    "import sys\n",
    "module_path = os.path.abspath(os.path.join('..','data_loader'))\n",
    "if module_path not in sys.path:\n",
    "    sys.path.append(module_path)\n",
    "import data_source_loader"
   ]
  },
  {
   "cell_type": "code",
   "execution_count": 2,
   "metadata": {},
   "outputs": [],
   "source": [
    "def import_data(assets, source, start_date, end_date):\n",
    "    data_source = data_source_loader.DataSource(source, True)\n",
    "    return data_source.read_data(assets, start_date, end_date)"
   ]
  },
  {
   "cell_type": "code",
   "execution_count": 34,
   "metadata": {
    "scrolled": true
   },
   "outputs": [
    {
     "data": {
      "application/vnd.jupyter.widget-view+json": {
       "model_id": "89402347f4c54211a24d1d67168431b7",
       "version_major": 2,
       "version_minor": 0
      },
      "text/plain": [
       "A Jupyter Widget"
      ]
     },
     "metadata": {},
     "output_type": "display_data"
    }
   ],
   "source": [
    "input_style = {'width': '400px'}\n",
    "description_layout = Layout(width='7%', right='0%')\n",
    "input_layout = Layout(width='50%')\n",
    "text_description = Label('Path to asset list', layout=description_layout)\n",
    "text = widgets.Text(layout=input_layout)\n",
    "#                   value='/home/xavier/Tests/F')\n",
    "text_label = Label('')\n",
    "input_file_layout = HBox([text_description, text, text_label])\n",
    "\n",
    "dropdown_description = Label('Data source', layout=description_layout)\n",
    "dropdown = widgets.Dropdown(\n",
    "    options=['google', 'morningstar'],\n",
    "    value='morningstar',\n",
    "    disabled=False,\n",
    "    layout=input_layout\n",
    ")\n",
    "dropdown_layout = HBox([dropdown_description, dropdown])\n",
    "start_date_description = Label('From Date', layout=description_layout)\n",
    "start_date = widgets.DatePicker(\n",
    "    disabled=False,\n",
    "    layout=input_layout\n",
    ")\n",
    "start_date_layout = HBox([start_date_description, start_date])\n",
    "end_date_description = Label('To Date', layout=description_layout)\n",
    "end_date = widgets.DatePicker(\n",
    "    disabled=False,\n",
    "    layout=input_layout\n",
    ")\n",
    "end_date_layout = HBox([end_date_description, end_date])\n",
    "submit_description = Label('', layout=description_layout)\n",
    "submit_button = widgets.Button(\n",
    "    value=False,\n",
    "    description='Send Update',\n",
    "    disabled=False,\n",
    "    button_style='', # 'success', 'info', 'warning', 'danger' or ''\n",
    "    tooltip='Description',\n",
    "    layout=input_layout\n",
    ")\n",
    "simple_error_message = Label('')\n",
    "submit_button_layout = HBox([submit_description, submit_button, simple_error_message])\n",
    "layout = VBox([input_file_layout, dropdown_layout, start_date_layout, end_date_layout, submit_button_layout])\n",
    "display(layout)\n",
    "\n",
    "def is_input_file_valid(path_as_string):\n",
    "    file_path = Path(path_as_string)\n",
    "    return file_path.is_file()\n",
    "\n",
    "def handle_submit(sender):\n",
    "    if is_input_file_valid(text.value):\n",
    "        text_label.value = \"File exists\"\n",
    "    else:\n",
    "        text_label.value = \"File does not currently exist\"\n",
    "\n",
    "def submit_button_behavior(sender):\n",
    "    submit_button.button_style = 'info'\n",
    "    submit_button.description = 'Send Update (currently loading)'\n",
    "    import_succeeded = False\n",
    "    \n",
    "    if not is_input_file_valid(text.value):\n",
    "        simple_error_message.value = 'The file path does not currently exist: ' + text.value\n",
    "        submit_button.button_style = 'danger'\n",
    "        submit_button.description = 'Send Update'\n",
    "        return\n",
    "    \n",
    "    with open(text.value) as f:\n",
    "        lines = f.read().splitlines()\n",
    "    \n",
    "    try:\n",
    "        start_date_as_datetime = datetime.datetime(start_date.value.year,\n",
    "                                                  start_date.value.month,\n",
    "                                                  start_date.value.day)\n",
    "        end_date_as_datetime = datetime.datetime(end_date.value.year,\n",
    "                                                end_date.value.month,\n",
    "                                                end_date.value.day)\n",
    "        import_data(['GE'],'morningstar', start_date_as_datetime, end_date_as_datetime)\n",
    "        import_succeeded = True\n",
    "    except:\n",
    "        print(\"Unexpected error:\", sys.exc_info()[0])\n",
    "        import_succeeded = False\n",
    "    \n",
    "    if import_succeeded:\n",
    "        submit_button.button_style = 'success'\n",
    "    else:\n",
    "        submit_button.button_style = 'danger'\n",
    "    submit_button.description = 'Send Update'\n",
    "\n",
    "text.on_submit(handle_submit)\n",
    "submit_button.on_click(submit_button_behavior)"
   ]
  },
  {
   "cell_type": "code",
   "execution_count": 14,
   "metadata": {},
   "outputs": [
    {
     "data": {
      "text/plain": [
       "['_model_module',\n",
       " '_model_module_version',\n",
       " '_model_name',\n",
       " '_view_count',\n",
       " '_view_module',\n",
       " '_view_module_version',\n",
       " '_view_name',\n",
       " 'description_width']"
      ]
     },
     "execution_count": 14,
     "metadata": {},
     "output_type": "execute_result"
    }
   ],
   "source": [
    "text.style.keys"
   ]
  },
  {
   "cell_type": "code",
   "execution_count": null,
   "metadata": {
    "collapsed": true
   },
   "outputs": [],
   "source": []
  }
 ],
 "metadata": {
  "kernelspec": {
   "display_name": "Python 3",
   "language": "python",
   "name": "python3"
  },
  "language_info": {
   "codemirror_mode": {
    "name": "ipython",
    "version": 3
   },
   "file_extension": ".py",
   "mimetype": "text/x-python",
   "name": "python",
   "nbconvert_exporter": "python",
   "pygments_lexer": "ipython3",
   "version": "3.6.3"
  }
 },
 "nbformat": 4,
 "nbformat_minor": 2
}
